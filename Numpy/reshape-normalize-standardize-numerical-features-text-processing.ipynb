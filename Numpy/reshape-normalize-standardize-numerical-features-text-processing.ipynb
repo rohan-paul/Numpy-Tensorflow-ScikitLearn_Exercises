{
 "metadata": {
  "language_info": {
   "codemirror_mode": {
    "name": "ipython",
    "version": 3
   },
   "file_extension": ".py",
   "mimetype": "text/x-python",
   "name": "python",
   "nbconvert_exporter": "python",
   "pygments_lexer": "ipython3",
   "version": 3
  },
  "orig_nbformat": 2
 },
 "nbformat": 4,
 "nbformat_minor": 2,
 "cells": [
  {
   "source": [
    "## Reshaping Numpy Array Numerical Column/Features before Normalization\n",
    "\n",
    "### Note, for normalizing numerical data, we got to use reshape(1, -1) and NOT reshape(-1, 1). \n",
    "\n",
    "Here is how normalizer works and why you should use reshape(1, -1) instead of (-1, 1)\n",
    "\n",
    "### Normalizer by default normalizes on each sample(row) while StandardScaler standardises on each feature(column)\n",
    "\n",
    "---\n",
    "\n",
    "### What does -1 mean in numpy reshape() ?\n",
    "\n",
    "The \"-1\" stands for \"unknown dimension\" which can and should be infered from another dimension.\n",
    "\n",
    "#### Main Rule is - when we don't how many columns the resultant matrix should have (set it to -1!), but if we know that we want a 1-dimensional array(set the first parameter to 1!).\n",
    "\n",
    "---\n",
    "\n",
    "Here if I use (-1, 1) it means any number of rows, which is the responsibility of numpy to figure out, while I am specifying that I need to have one column. Rememeber -1 lets numpy to calculate the unknown dimension for the resultant that will match with the original matrix.\n",
    "\n",
    "And vice versa, if I do reshape(1, -1) means, that I am specifying row to be 1 while leaving column numbers to be calculated by Numpy.\n",
    "\n",
    "So for the case, that I use (-1, 1) => i.e. Rows are unknows while columns required is 1\n",
    "\n",
    "![Imgur](https://imgur.com/vv8tAQK.png)\n",
    "\n",
    "\n",
    "So now below, I shall derived the vectors for 'price' and 'teacher_number_of_previously_posted_projects' for both train and test, and these will be later merged with the other vetorized categorical variables (that I calculated above)  to form the final matrix.\n",
    "\n",
    "And for the reshape, first I will reshape(1, -1) i.e. one row and unknown columns > Then apply Normalization > and then reshape again to (-1, 1) i.e. unknown rows, and 1 column\n",
    "\n",
    "### 2.1 Normalizing numerical feature: price"
   ],
   "cell_type": "markdown",
   "metadata": {}
  }
 ]
}