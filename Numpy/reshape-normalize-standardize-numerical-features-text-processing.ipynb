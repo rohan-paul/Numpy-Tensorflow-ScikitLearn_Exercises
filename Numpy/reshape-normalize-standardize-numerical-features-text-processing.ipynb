{
 "metadata": {
  "language_info": {
   "codemirror_mode": {
    "name": "ipython",
    "version": 3
   },
   "file_extension": ".py",
   "mimetype": "text/x-python",
   "name": "python",
   "nbconvert_exporter": "python",
   "pygments_lexer": "ipython3",
   "version": "3.8.5-final"
  },
  "orig_nbformat": 2,
  "kernelspec": {
   "name": "python38264bitc1f0ed6ae17449f592900d2973a99338",
   "display_name": "Python 3.8.2 64-bit",
   "language": "python"
  }
 },
 "nbformat": 4,
 "nbformat_minor": 2,
 "cells": [
  {
   "source": [
    "## Reshaping Numpy Array Numerical Column/Features before Normalization\n",
    "\n",
    "##### The main Principle that I am going to discuss with example below is this\n",
    "\n",
    "### For normalizing numerical data, we got to use reshape(1, -1) and NOT reshape(-1, 1) and then apply Normalize() function. Ofcourse after the Normalization is done we can rehape it back with (-1, 1) if thats what we need.\n",
    "\n",
    "Here is how normalizer works and why you should use reshape(1, -1) instead of (-1, 1)\n",
    "\n",
    "### Normalizer by default normalizes on each sample(row) while StandardScaler standardises on each feature(column)\n",
    "\n",
    "---\n",
    "\n",
    "### What does -1 mean in numpy reshape() ?\n",
    "\n",
    "The \"-1\" stands for \"unknown dimension\" which can and should be infered from another dimension.\n",
    "\n",
    "#### Main Rule is - when we don't how many columns the resultant matrix should have (set it to -1!), but if we know that we want a 1-dimensional array(set the first parameter to 1!).\n",
    "\n",
    "---\n",
    "\n",
    "Lets take an example where my array is `np.array([1, 2, 3])`\n",
    "\n",
    "### Noting the mechanism of reshape() - that numpy allow us to give one of new shape parameter as -1 (eg: (2,-1) or (-1,3) but not (-1, -1)). It simply means that it is an unknown dimension and we want numpy to figure it out. And numpy will figure this by looking at the 'length of the array and remaining dimensions' and making sure it satisfies the above mentioned criteria\n",
    "\n",
    "Here if I use (-1, 1) it means any number of rows, which is the responsibility of numpy to figure out, while I am specifying that I need to have one column. \n",
    "\n",
    "Rememeber -1 lets numpy to calculate the unknown dimension for the resultant that will match with the original matrix.\n",
    "\n",
    "And vice versa, if I do reshape(1, -1) means, that I am specifying row to be 1 while leaving column numbers to be calculated by Numpy.\n",
    "\n",
    "So for the case, that I use (-1, 1) => i.e. Rows are unknows while columns required is 1\n",
    "\n",
    "![Imgur](https://imgur.com/vv8tAQK.png)\n",
    "\n",
    "Normalizer() will go each sample wise i.e. row wise and calculate the Normalizer formulae for that row.\n",
    "\n",
    "\n",
    "Lets do actual example"
   ],
   "cell_type": "markdown",
   "metadata": {}
  },
  {
   "cell_type": "code",
   "execution_count": 6,
   "metadata": {},
   "outputs": [
    {
     "output_type": "stream",
     "name": "stdout",
     "text": [
      "Afer reshaping with (-1, 1) \n [[1]\n [2]\n [3]]\nAfter reshaping with (1, -1) \n [[1 2 3]]\n"
     ]
    }
   ],
   "source": [
    "from sklearn.preprocessing import Normalizer\n",
    "import numpy as np\n",
    "\n",
    "a = np.array([1, 2, 3])\n",
    "\n",
    "b = np.reshape(a, (-1, 1))\n",
    "\n",
    "c = np.reshape(a, (1, -1))\n",
    "\n",
    "print('Afer reshaping with (-1, 1) \\n', b)\n",
    "print('After reshaping with (1, -1) \\n', c)\n"
   ]
  },
  {
   "cell_type": "code",
   "execution_count": 7,
   "metadata": {},
   "outputs": [
    {
     "output_type": "stream",
     "name": "stdout",
     "text": [
      "a_transformed_not_useful \n \n [[1.]\n [1.]\n [1.]]\nc_transformed \n \n [[0.26726124 0.53452248 0.80178373]]\n"
     ]
    }
   ],
   "source": [
    "normalizer = Normalizer()\n",
    "\n",
    "a_transformed_not_useful = normalizer.transform(b)\n",
    "c_transformed = normalizer.transform(c)\n",
    "\n",
    "print(\"a_transformed_not_useful \\n \\n\", a_transformed_not_useful)\n",
    "print(\"c_transformed \\n \\n\", c_transformed)"
   ]
  },
  {
   "source": [
    "As we can see the result of the reshape `a_transformed_not_useful` is a column vector with each value of 1 which in most cases is not useful for our modelling. Beause Normalizer() will go each sample wise i.e. row wise and calculate the Normalizer formulae for that row.\n"
   ],
   "cell_type": "markdown",
   "metadata": {}
  }
 ]
}