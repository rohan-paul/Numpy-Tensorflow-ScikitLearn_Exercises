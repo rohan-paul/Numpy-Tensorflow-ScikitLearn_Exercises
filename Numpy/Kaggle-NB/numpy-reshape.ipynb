{
 "cells": [
  {
   "cell_type": "code",
   "execution_count": 2,
   "metadata": {},
   "outputs": [],
   "source": [
    "import numpy as np\n"
   ]
  },
  {
   "cell_type": "markdown",
   "metadata": {},
   "source": [
    "## The reshape() function is used to give a new shape to an array without changing its data.\n",
    "\n",
    "`numpy.reshape(a, newshape, order='C')`\n",
    "\n",
    "https://numpy.org/doc/stable/reference/generated/numpy.reshape.html#numpy-reshape\n",
    "\n",
    "#### newshape\tThe new shape should be compatible with the original shape. If an integer, then the result will be a 1-D array of that length. One shape dimension can be -1. In this case, the value is inferred from the length of the array and remaining dimensions.\n",
    "\n",
    "The below example\n",
    "\n",
    "![Imgur](https://imgur.com/fbjyxqd.png)\n"
   ]
  },
  {
   "cell_type": "code",
   "execution_count": 3,
   "metadata": {},
   "outputs": [
    {
     "data": {
      "text/plain": "array([[2, 3],\n       [4, 5],\n       [6, 7]])"
     },
     "execution_count": 3,
     "metadata": {},
     "output_type": "execute_result"
    }
   ],
   "source": [
    "x = np.array([[2,3,4], [5,6,7]])\n",
    "np.reshape(x, (3, 2))"
   ]
  },
  {
   "cell_type": "code",
   "execution_count": 7,
   "metadata": {},
   "outputs": [
    {
     "name": "stdout",
     "output_type": "stream",
     "text": [
      "original shape of a  (2, 4)\n"
     ]
    },
    {
     "data": {
      "text/plain": "matrix([[1, 2, 3, 4, 5, 6, 7, 8]])"
     },
     "execution_count": 7,
     "metadata": {},
     "output_type": "execute_result"
    }
   ],
   "source": [
    "a = np.matrix([[1, 2, 3, 4], [5, 6, 7, 8]])\n",
    "print('original shape of a ', a.shape)\n",
    "b = np.reshape(a, -1)\n",
    "b"
   ]
  },
  {
   "cell_type": "markdown",
   "metadata": {},
   "source": [
    "### What does -1 mean in numpy reshape() ?\n",
    "\n",
    "The \"-1\" stands for \"unknown dimension\" which can should be infered from another dimension. In this case, if you set your matrix like this:\n",
    "\n",
    "#### Main Rule is - when we don't how many columns the resultant matrix should have (set it to -1!), but if we know that we want a 1-dimensional array(set the first parameter to 1!)."
   ]
  },
  {
   "cell_type": "code",
   "execution_count": 9,
   "metadata": {},
   "outputs": [
    {
     "name": "stdout",
     "output_type": "stream",
     "text": [
      "[2 3 4 5 6 7]\n",
      "[2 5 3 6 4 7]\n",
      "[[2 3]\n",
      " [4 5]\n",
      " [6 7]]\n"
     ]
    }
   ],
   "source": [
    "a = np.array([[2,3,4], [5,6,7]])\n",
    "\n",
    "print(np.reshape(a, 6))\n",
    "\n",
    "print(np.reshape(a, 6, order='F'))\n",
    "\n",
    "print(np.reshape(a, (3,-1)))\n",
    "# The unspecified value is inferred to be 2\n"
   ]
  },
  {
   "cell_type": "markdown",
   "metadata": {},
   "source": [
    "#### In the last line above, we wanted a 3 rows, but we did not know how many columns the resultant matrix should have, and so we kept it at -1. Hence numpy decided the unspecified value - which was inferred to be 2\n"
   ]
  },
  {
   "cell_type": "markdown",
   "metadata": {},
   "source": [
    "### numpy allow us to give one of new shape parameter as -1 (eg: (2,-1) or (-1,3) but not (-1, -1)). It simply means that it is an unknown dimension and we want numpy to figure it out. And numpy will figure this by looking at the 'length of the array and remaining dimensions' and making sure it satisfies the above mentioned criteria\n",
    "\n",
    "\n",
    "for the below example the output explains the resultant vector to be a single row.(-1) indicates the number of rows to be 1.\n",
    "if the \n",
    "\n",
    "    a = numpy.matrix([[1, 2, 3, 4], [5, 6, 7, 8]])\n",
    "    b = numpy.reshape(a, -1)\n",
    "\n",
    "output:\n",
    "\n",
    "    matrix([[1, 2, 3, 4, 5, 6, 7, 8]])\n",
    "\n",
    " The \"-1\" stands for \"unknown dimension\" which can should be infered from another dimension."
   ]
  },
  {
   "cell_type": "code",
   "execution_count": 5,
   "metadata": {},
   "outputs": [
    {
     "data": {
      "text/plain": "matrix([[1, 2, 3, 4, 5, 6, 7, 8]])"
     },
     "execution_count": 5,
     "metadata": {},
     "output_type": "execute_result"
    }
   ],
   "source": [
    "a = np.matrix([[1, 2, 3, 4], [5, 6, 7, 8]])\n",
    "b = np.reshape(a, (1, -1))\n",
    "b"
   ]
  },
  {
   "cell_type": "markdown",
   "metadata": {},
   "source": [
    "But \n",
    "\n",
    "```python\n",
    "a = np.matrix([[1, 2, 3, 4], [5, 6, 7, 8]])\n",
    "b = np.reshape(a, (-1, 1))\n",
    "```\n",
    "\n",
    "Gives a column vector. \n",
    "\n",
    "#### Trying to reshape with (-1, 1) . We have provided column as 1 but rows as unknown . So we get result new shape as (8, 1).again compatible with original shape(2,4)\n",
    "\n",
    "#### The above is consistent with numpy advice/error message, to use reshape(-1,1) for a single feature; i.e. single column\n",
    "\n",
    "Reshape your data using `array.reshape(-1, 1)` if your data has a single feature"
   ]
  },
  {
   "cell_type": "code",
   "execution_count": 6,
   "metadata": {},
   "outputs": [
    {
     "data": {
      "text/plain": "matrix([[1],\n        [2],\n        [3],\n        [4],\n        [5],\n        [6],\n        [7],\n        [8]])"
     },
     "execution_count": 6,
     "metadata": {},
     "output_type": "execute_result"
    }
   ],
   "source": [
    "a = np.matrix([[1, 2, 3, 4], [5, 6, 7, 8]])\n",
    "b = np.reshape(a, (-1, 1))\n",
    "b"
   ]
  },
  {
   "cell_type": "markdown",
   "metadata": {},
   "source": [
    "\n",
    "And finally, if we try to provide both dimension as unknown i.e new shape as (-1,-1). It will throw an error\n",
    "\n",
    "```python\n",
    "a.reshape(-1, -1)\n",
    "ValueError: can only specify one unknown dimension\n",
    "```"
   ]
  }
 ],
 "metadata": {
  "kernelspec": {
   "display_name": "Python 3",
   "language": "python",
   "name": "python3"
  },
  "language_info": {
   "codemirror_mode": {
    "name": "ipython",
    "version": 3
   },
   "file_extension": ".py",
   "mimetype": "text/x-python",
   "name": "python",
   "nbconvert_exporter": "python",
   "pygments_lexer": "ipython3",
   "version": "3.8.5"
  },
  "orig_nbformat": 2
 },
 "nbformat": 4,
 "nbformat_minor": 2
}