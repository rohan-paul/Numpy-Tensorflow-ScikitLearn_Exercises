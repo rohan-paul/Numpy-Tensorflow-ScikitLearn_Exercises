{
 "cells": [
  {
   "cell_type": "markdown",
   "metadata": {
    "collapsed": true,
    "pycharm": {
     "name": "#%% md\n"
    }
   },
   "source": [
    "## Generate a random matrix of array and dot product"
   ]
  },
  {
   "cell_type": "code",
   "execution_count": null,
   "outputs": [],
   "source": [
    "\n",
    "import numpy as np\n",
    "import scipy as sp\n",
    "import scipy.integrate as integrate\n",
    "\n",
    "# For example, to create an array filled with random values between 0 and 1, use random function.\n",
    "# This is particularly useful for problems where you need a random state to get started.\n",
    "# But here the elements will be decimals\n",
    "\n",
    "A = np.random.rand(2,3)\n",
    "print(A)\n",
    "\n",
    "\"\"\" Output of above\n",
    "[[0.62857547 0.14598864 0.93991874]\n",
    " [0.65560569 0.29442998 0.3354452 ]] \"\"\"\n",
    "\n",
    "\n",
    "A = np.random.random([2,3]) # Or this is also equivalent\n",
    "print(A)\n",
    "\n",
    "'''\n",
    "numpy.random.random like many of the other numpy.random methods accept shapes, i.e. N-tuples. So really the outside parenthesis represent calling the method numpy.random.random(), and the inside parenthesis are syntactic sugar for instantiating the tuple (3, 3) that is passed into the function.\n",
    "'''\n",
    "\n",
    "# Create Matrix (2,3) with random between 0 and 1 and INTEGER (i.e. NOT decimal)\n",
    "B = np.random.randint(10, size=(3,2))\n",
    "# print(B)\n",
    "print(B.T)\n",
    "\n",
    "# Dot product\n",
    "print(np.dot(A, B))\n",
    "\n",
    "# transpose\n",
    "# print(np.dot(A, B).T)"
   ],
   "metadata": {
    "collapsed": false,
    "pycharm": {
     "name": "#%%\n"
    }
   }
  },
  {
   "cell_type": "markdown",
   "source": [
    "## Integrate curve from vectorized data with numpy.trapz()\n",
    "\n",
    "First find out the indices of x array that are within the above integral limits:"
   ],
   "metadata": {
    "collapsed": false
   }
  },
  {
   "cell_type": "code",
   "execution_count": null,
   "outputs": [],
   "source": [
    "# Here are my x-values:\n",
    "\n",
    "x = [2600.2 2601.2 2602.2 2603.1 2604.1 2605.1 2606.  2607.  2607.9 2608.9\n",
    "     2609.9 2610.8 2611.8 2612.8 2613.7 2614.7 2615.7 2616.6 2617.6 2618.6\n",
    "     2619.5 2620.5 2621.4 2622.4 2623.4 2624.3 2625.3 2626.3 2627.2 2628.2\n",
    "     2995.7 2996.6 2997.6 2998.6 2999.5 3000.5 3001.5 3002.4 3003.4 3004.3\n",
    "     3005.3 3006.3 3007.2 3008.2 3009.2 3010.1 3011.1 3012.1 3013.  3014.2\n",
    "     ]\n",
    "\n",
    "# and y-values:\n",
    "\n",
    "y = [-7.44466803e-04 -6.38664122e-04 -5.34609823e-04 -4.42448211e-04\n",
    "     -3.41690555e-04 -2.42654847e-04 -1.54987591e-04 -5.91990560e-05\n",
    "      2.55600336e-05  1.18132985e-04  2.09025991e-04  2.89400351e-04\n",
    "      3.77124735e-04  4.63193491e-04  5.39246590e-04  6.22192168e-04\n",
    "      7.03505639e-04  7.75298863e-04 -2.01875984e-04  9.30157920e-04\n",
    "     ]\n",
    "\n",
    "# How would you integrate the curve from x = 2672.6 to 3005.3 ?\n",
    "\n",
    "idx = np.where(( np.array(x) >= 2672.6 ) & (np.array(x) <= 3005.3))[0]\n",
    "\n",
    "# And then either using np.trapz to integrate using the trapezoidal rule:\n",
    "np.trapz(x = np.array(x)[idx], y = np.array(y)[idx] )\n",
    "\n",
    "# or I could also use from scipy's integration methods for integrating with fixed samples:\n",
    "# https://docs.scipy.org/doc/scipy/reference/tutorial/integrate.html\n",
    "\n",
    "\n",
    "# same as numpy.trapz\n",
    "integrate.trapz(x=np.array(x)[idx],y=np.array(y)[idx])\n",
    "# example using simpson's rule\n",
    "integrate.simps(x=np.array(x)[idx],y=np.array(y)[idx])"
   ],
   "metadata": {
    "collapsed": false,
    "pycharm": {
     "name": "#%%\n"
    }
   }
  },
  {
   "cell_type": "markdown",
   "source": [
    "## A note on numpy.trapz() function\n",
    "\n",
    "#### numpy.trapz() function integrate along the given axis using the composite [trapezoidal rule](https://en.wikipedia.org/wiki/Trapezoidal_rule).\n",
    "\n",
    "![Imgur](https://imgur.com/kKX9G5R.png)\n",
    "\n",
    "![Imgur](https://imgur.com/6zwXG8w.png)\n",
    "\n",
    "You specify the integration range when you pass the x array to the np.trapz function.\n",
    "\n",
    "\n",
    "#### When can I get a negative value from numpy.trapz()\n",
    "\n",
    "#### If the $x_i$ in the call to trapz() are not in increasing order, then you will get negative results. So if you want a positive number from this function when it returns a negative, Try re-ordering x in ascending order (and y-values accordingly):\n",
    "\n",
    "```python\n",
    "x_order = x(end:-1:1); %fliplr\n",
    "y_order = y(end:-1:1); %fliplr\n",
    "trapz(x_order, y_order)\n",
    "```\n",
    "\n",
    " In essence, I will get negative result, when I am integrating the function represented by the y data from x = 1 to x = 0, not from x = 0 to x = 1. If I flip my x vector so that I am integrating from x = 0 to x = 1 (essentially swapping the limits of integration) then the area will be positive.\n",
    "\n",
    "In `trapz(x,y)` differentiation of x is applied through diff(x,1,1), i.e. `[x(2:n,:) - x(1:n-1,:)].` If your x is descending this will give negative dx. It doesn't matter if it is positive or negative. However, in `plot` the curve will appear positive-definite (you don't actually see the order of points, just pairs from two vectors on a plane).\n",
    "\n",
    "**Example** (compare the following):\n",
    "\n",
    "```python\n",
    "x = [-1 -0.5 0]; y = 0.5-x;\n",
    "figure; plot(x,y); hold on; plot(-x, y,'r')\n",
    "trapz(x, y)\n",
    "trapz(-x, y)\n",
    "figure; plot(x, y); hold on; plot(fliplr(-x), fliplr(y),'r')\n",
    "trapz(fliplr(-x), fliplr(y))\n",
    "```\n",
    "\n",
    "\n",
    "Think of it like this. The integral of a function that is always positive, if the limits are inverted, will still be negative. Thus we know that\n",
    "\n",
    "    int(x^2,-1,1) = 2/3\n",
    "\n",
    "But\n",
    "\n",
    "    int(x^2,1,-1) = -2/3\n",
    "\n",
    "Clearly x^2 is always a positive number, but here the limits of integration were not increasing, but decreasing.\n",
    "\n",
    "If the $x_i$ in the call to trapz are not in increasing order, then you will get negative results. This is reflected by trapz. Trapz sees the order of the points as presented to it.\n",
    "\n",
    "    x = -1:.1:1;\n",
    "    trapz(x,x.^2)\n",
    "    ans =\n",
    "             0.67\n",
    "\n",
    "    xrev = fliplr(x);\n",
    "    trapz(xrev,xrev.^2)\n",
    "    ans =\n",
    "            -0.67\n",
    "\n",
    "The plot shows only that the function is positive, not the order of the points.\n",
    "\n",
    "---\n"
   ],
   "metadata": {
    "collapsed": false,
    "pycharm": {
     "name": "#%% md\n"
    }
   }
  }
 ],
 "metadata": {
  "kernelspec": {
   "display_name": "Python 3",
   "language": "python",
   "name": "python3"
  },
  "language_info": {
   "codemirror_mode": {
    "name": "ipython",
    "version": 2
   },
   "file_extension": ".py",
   "mimetype": "text/x-python",
   "name": "python",
   "nbconvert_exporter": "python",
   "pygments_lexer": "ipython2",
   "version": "2.7.6"
  }
 },
 "nbformat": 4,
 "nbformat_minor": 0
}