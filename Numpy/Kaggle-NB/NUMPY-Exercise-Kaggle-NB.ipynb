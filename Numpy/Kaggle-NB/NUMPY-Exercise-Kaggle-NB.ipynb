{
 "cells": [
  {
   "cell_type": "markdown",
   "metadata": {
    "collapsed": false
   },
   "source": [
    "## Generate a random matrix of array and dot product"
   ]
  },
  {
   "cell_type": "code",
   "execution_count": 1,
   "metadata": {
    "collapsed": false,
    "pycharm": {
     "name": "#%%\n"
    }
   },
   "outputs": [
    {
     "name": "stdout",
     "output_type": "stream",
     "text": [
      "[[0.05394199 0.95011364 0.25389178]\n",
      " [0.94993776 0.66861198 0.91024298]]\n",
      "[[0.44946176 0.85111493 0.30266442]\n",
      " [0.37192605 0.06700604 0.96260589]]\n",
      "[[2 0 9]\n",
      " [0 3 1]]\n",
      "[[3.62290328 2.85600921]\n",
      " [9.40730512 1.16362402]]\n"
     ]
    }
   ],
   "source": [
    "\n",
    "import numpy as np\n",
    "import scipy as sp\n",
    "import scipy.integrate as integrate\n",
    "import re\n",
    "import decimal\n",
    "\n",
    "# For example, to create an array filled with random values between 0 and 1, use random function.\n",
    "# This is particularly useful for problems where you need a random state to get started.\n",
    "# But here the elements will be decimals\n",
    "\n",
    "A = np.random.rand(2,3)\n",
    "print(A)\n",
    "\n",
    "\"\"\" Output of above\n",
    "[[0.62857547 0.14598864 0.93991874]\n",
    " [0.65560569 0.29442998 0.3354452 ]] \"\"\"\n",
    "\n",
    "\n",
    "A = np.random.random([2,3]) # Or this is also equivalent\n",
    "print(A)\n",
    "\n",
    "'''\n",
    "numpy.random.random like many of the other numpy.random methods accept shapes, i.e. N-tuples. So really the outside parenthesis represent calling the method numpy.random.random(), and the inside parenthesis are syntactic sugar for instantiating the tuple (3, 3) that is passed into the function.\n",
    "'''\n",
    "\n",
    "# Create Matrix (2,3) with random between 0 and 1 and INTEGER (i.e. NOT decimal)\n",
    "B = np.random.randint(10, size=(3,2))\n",
    "# print(B)\n",
    "print(B.T)\n",
    "\n",
    "# Dot product\n",
    "print(np.dot(A, B))\n",
    "\n",
    "# transpose\n",
    "# print(np.dot(A, B).T)\n"
   ]
  },
  {
   "cell_type": "markdown",
   "metadata": {
    "collapsed": false
   },
   "source": [
    "## Add a comma between the elements of a numpy array"
   ]
  },
  {
   "cell_type": "code",
   "execution_count": 2,
   "metadata": {
    "collapsed": false,
    "pycharm": {
     "name": "#%%\n"
    }
   },
   "outputs": [
    {
     "data": {
      "text/plain": "array([2600.2, 2601.2, 2602.2, 2603.1, 2604.1, 2605.1, 2606. , 2607. ,\n       2607.9, 2608.9, 2609.9, 2610.8, 2611.8, 2612.8, 2613.7, 2614.7,\n       2615.7, 2616.6, 2617.6, 2618.6, 2619.5, 2620.5, 2621.4, 2622.4,\n       2623.4, 2624.3, 2625.3, 2626.3, 2627.2, 2628.2, 2995.7, 2996.6,\n       2997.6, 2998.6, 2999.5, 3000.5, 3001.5, 3002.4, 3003.4, 3004.3,\n       3005.3, 3006.3, 3007.2, 3008.2, 3009.2, 3010.1, 3011.1, 3012.1,\n       3013. , 3014.2])"
     },
     "execution_count": 2,
     "metadata": {},
     "output_type": "execute_result"
    }
   ],
   "source": [
    "# I have following x values\n",
    "\n",
    "'''\n",
    "x = [2600.2 2601.2 2602.2 2603.1 2604.1 2605.1 2606.  2607.  2607.9 2608.9\n",
    "     2609.9 2610.8 2611.8 2612.8 2613.7 2614.7 2615.7 2616.6 2617.6 2618.6\n",
    "     2619.5 2620.5 2621.4 2622.4 2623.4 2624.3 2625.3 2626.3 2627.2 2628.2\n",
    "     2995.7 2996.6 2997.6 2998.6 2999.5 3000.5 3001.5 3002.4 3003.4 3004.3\n",
    "     3005.3 3006.3 3007.2 3008.2 3009.2 3010.1 3011.1 3012.1 3013.  3014.2\n",
    "     ]\n",
    "'''\n",
    "\n",
    "# First delte all the line breaks and make as a string\n",
    "\n",
    "x_str = '[2600.2 2601.2 2602.2 2603.1 2604.1 2605.1 2606.  2607.  2607.9 2608.9 2609.9 2610.8 2611.8 2612.8 2613.7 2614.7 2615.7 2616.6 2617.6 2618.6 2619.5 2620.5 2621.4 2622.4 2623.4 2624.3 2625.3 2626.3 2627.2 2628.2 2995.7 2996.6 2997.6 2998.6 2999.5 3000.5 3001.5 3002.4 3003.4 3004.3 3005.3 3006.3 3007.2 3008.2 3009.2 3010.1 3011.1 3012.1 3013. 3014.2]'\n",
    "\n",
    "np_array = np.array(re.split(\"\\s+\", x_str.replace('[', '').replace(']', '')), dtype=float)\n",
    "np_array"
   ]
  },
  {
   "cell_type": "code",
   "execution_count": 3,
   "metadata": {
    "collapsed": false,
    "pycharm": {
     "name": "#%%\n"
    }
   },
   "outputs": [],
   "source": [
    "# If I want to make a list and add comma between each item\n",
    "python_list = list(np_array)"
   ]
  },
  {
   "cell_type": "markdown",
   "metadata": {
    "collapsed": false
   },
   "source": [
    "## Integrate curve from vectorized data with numpy.trapz()\n",
    "\n",
    "First find out the indices of x array that are within the above integral limits:"
   ]
  },
  {
   "cell_type": "code",
   "execution_count": 4,
   "metadata": {
    "collapsed": false,
    "pycharm": {
     "name": "#%%\n"
    }
   },
   "outputs": [
    {
     "data": {
      "text/plain": "48.666666666666664"
     },
     "execution_count": 4,
     "metadata": {},
     "output_type": "execute_result"
    }
   ],
   "source": [
    "# Here are my x-values:\n",
    "\n",
    "x = [2600, 2601, 2602, 2603, 2604, 2605, 2606, 2607, 2607, 2608, 2609, 2610, 2611, 2612, 2613, 2614, 2615, 2616, 2617, 2618, 2619, 2620, 2621, 2622, 2623, 2624, 2625, 2626, 2627, 2628, 2995, 2996, 2997, 2998, 2999, 3000, 3001, 3002, 3003, 3004, 3005, 3006, 3007, 3008, 3009, 3010, 3011, 3012, 3013, 3014]\n",
    "\n",
    "# and y-values:\n",
    "\n",
    "y = [9, 3, 8, 6, 2, 0, 3, 2, 7, 0, 9, 5, 1, 7, 2, 9, 5, 5, 9, 2, 7, 1,\n",
    "       6, 8, 0, 3, 4, 6, 0, 8, 7, 5, 8, 3, 6, 6, 4, 6, 8, 1, 3, 1, 0, 1,\n",
    "       8, 9, 0, 1, 1, 3]\n",
    "\n",
    "# How would you integrate the curve from x = 2672.6 to 3005.3 ?\n",
    "\n",
    "# Now extract the ranges\n",
    "idx = np.where(( np.array(x) >= 2672.6 ) & (np.array(x) <= 3005.3))[0]\n",
    "\n",
    "# And then either using np.trapz to integrate using the trapezoidal rule:\n",
    "np.trapz(x = np.array(x)[idx], y = np.array(y)[idx] )\n",
    "\n",
    "# or I could also use from scipy's integration methods for integrating with fixed samples:\n",
    "# https://docs.scipy.org/doc/scipy/reference/tutorial/integrate.html\n",
    "\n",
    "\n",
    "# same as numpy.trapz\n",
    "integrate.trapz(x=np.array(x)[idx],y=np.array(y)[idx])\n",
    "# example using simpson's rule\n",
    "integrate.simps(x=np.array(x)[idx],y=np.array(y)[idx])"
   ]
  },
  {
   "cell_type": "markdown",
   "metadata": {
    "collapsed": false
   },
   "source": [
    "## A note on numpy.trapz() function\n",
    "\n",
    "#### numpy.trapz() function integrate along the given axis using the composite [trapezoidal rule](https://en.wikipedia.org/wiki/Trapezoidal_rule).\n",
    "\n",
    "![Imgur](https://imgur.com/kKX9G5R.png)\n",
    "\n",
    "![Imgur](https://imgur.com/6zwXG8w.png)\n",
    "\n",
    "You specify the integration range when you pass the x array to the np.trapz function.\n",
    "\n",
    "\n",
    "Internally, trapz uses np.diff() to calculate dx. This makes the assumption that the x values are increasing monotonically. This leads to wrong values when x does not have this property:\n",
    "\n",
    "```python\n",
    "x = array([0, 1, 2])\n",
    "\n",
    "y = array([0, 2, 4])\n",
    "\n",
    "trapz(y, x) # 4, correct value\n",
    "\n",
    "trapz(y[::-1], x[::-1]) # -4, incorrect value\n",
    "\n",
    "idx = random.permutation(arange(3))\n",
    "\n",
    "x_shuffled = x[idx]\n",
    "\n",
    "y_shuffled = y[idx]\n",
    "\n",
    "trapz(y_shuffled, x_shuffled) # 1, incorrect value\n",
    "```\n",
    "\n",
    "This limitation of trapz can be fixed by sorting both y, x values before proceeding.\n",
    "\n",
    "Numpy repo's maintainers have explicitly retained this, opining this as a feature rather than a defect. See [here](https://github.com/numpy/numpy/issues/4601#issuecomment-88697254)\n",
    "\n",
    "\n",
    "\"It seems nearly all of the scipy community sees the sensitivity to x-array ordering as a feature rather than a defect. While I believe this position has an equally valid point of view (the disagreement is over who has to keep track of their minus signs explicitly) it seems that changing the behavior will cause far more upset than molification.\"\n",
    "\n",
    "### When can I get a negative value from numpy.trapz()\n",
    "\n",
    "#### If the $x_i$ in the call to trapz() are not in increasing order, then you will get negative results. So if you want a positive number from this function when it returns a negative, Try re-ordering x in ascending order (and y-values accordingly):\n",
    "\n",
    "```python\n",
    "x_order = x(end:-1:1); %fliplr\n",
    "y_order = y(end:-1:1); %fliplr\n",
    "trapz(x_order, y_order)\n",
    "```\n",
    "\n",
    " In essence, I will get negative result, when I am integrating the function represented by the y data from x = 1 to x = 0, not from x = 0 to x = 1. If I flip my x vector so that I am integrating from x = 0 to x = 1 (essentially swapping the limits of integration) then the area will be positive.\n",
    "\n",
    "In `trapz(x,y)` differentiation of x is applied through diff(x,1,1), i.e. `[x(2:n,:) - x(1:n-1,:)].` If your x is descending this will give negative dx. It doesn't matter if it is positive or negative. However, in `plot` the curve will appear positive-definite (you don't actually see the order of points, just pairs from two vectors on a plane).\n",
    "\n",
    "**Example** (compare the following):\n",
    "\n",
    "```python\n",
    "x = [-1 -0.5 0]; y = 0.5-x;\n",
    "figure; plot(x,y); hold on; plot(-x, y,'r')\n",
    "trapz(x, y)\n",
    "trapz(-x, y)\n",
    "figure; plot(x, y); hold on; plot(fliplr(-x), fliplr(y),'r')\n",
    "trapz(fliplr(-x), fliplr(y))\n",
    "```\n",
    "\n",
    "\n",
    "Think of it like this. The integral of a function that is always positive, if the limits are inverted, will still be negative. Thus we know that\n",
    "\n",
    "    int(x^2,-1,1) = 2/3\n",
    "\n",
    "But\n",
    "\n",
    "    int(x^2,1,-1) = -2/3\n",
    "\n",
    "Clearly x^2 is always a positive number, but here the limits of integration were not increasing, but decreasing.\n",
    "\n",
    "If the $x_i$ in the call to trapz are not in increasing order, then you will get negative results. This is reflected by trapz. Trapz sees the order of the points as presented to it.\n",
    "\n",
    "    x = -1:.1:1;\n",
    "    trapz(x,x.^2)\n",
    "    ans =\n",
    "             0.67\n",
    "\n",
    "    xrev = fliplr(x);\n",
    "    trapz(xrev,xrev.^2)\n",
    "    ans =\n",
    "            -0.67\n",
    "\n",
    "The plot shows only that the function is positive, not the order of the points.\n",
    "\n",
    "---\n",
    "\n",
    "## Considering a four dimensions array, how to get sum over the last two axis at once?\n",
    "\n",
    "First a quick refresher on axis in Numpy\n",
    "\n",
    "### Axis 0 will act on all the ROWS in each COLUMN\n",
    "\n",
    "### Axis 1 will act on all the COLUMNS in each ROW\n",
    "\n",
    "### So a `mean` on axis 0 will be the mean of all the rows in each column, and a mean on axis 1 will be a mean of all the columns in each row.\n"
   ]
  },
  {
   "cell_type": "code",
   "execution_count": 5,
   "metadata": {
    "collapsed": false,
    "pycharm": {
     "name": "#%%\n"
    }
   },
   "outputs": [
    {
     "name": "stdout",
     "output_type": "stream",
     "text": [
      "[[1 2 3]\n",
      " [4 5 6]\n",
      " [7 8 9]]\n"
     ]
    },
    {
     "data": {
      "text/plain": "array([12, 15, 18])"
     },
     "execution_count": 5,
     "metadata": {},
     "output_type": "execute_result"
    }
   ],
   "source": [
    "x = np.array([[1, 2, 3], [4,5,6],[7,8,9]], np.int32)\n",
    "print(x)\n",
    "'''\n",
    "array([[1, 2, 3],\n",
    "       [4, 5, 6],\n",
    "       [7, 8, 9]], dtype=int32)\n",
    "'''\n",
    "\n",
    "s0 = x.sum(axis=0)  # sum the columns [1,4,7] = 12, [2,5,8] = 15 [3,6,9] = 18\n",
    "s0"
   ]
  },
  {
   "cell_type": "code",
   "execution_count": 6,
   "metadata": {
    "collapsed": false,
    "pycharm": {
     "name": "#%%\n"
    }
   },
   "outputs": [
    {
     "data": {
      "text/plain": "array([ 6, 15, 24])"
     },
     "execution_count": 6,
     "metadata": {},
     "output_type": "execute_result"
    }
   ],
   "source": [
    "s1 = x.sum(axis=1)    # sum the rows [1,2,3] = 6, [4,5,6] = 15 [7,8,9] = 24\n",
    "s1"
   ]
  },
  {
   "cell_type": "markdown",
   "metadata": {
    "collapsed": false
   },
   "source": [
    "### sum() function for a three dimensional array:"
   ]
  },
  {
   "cell_type": "code",
   "execution_count": 7,
   "metadata": {
    "collapsed": false,
    "pycharm": {
     "name": "#%%\n"
    }
   },
   "outputs": [
    {
     "data": {
      "text/plain": "'\\n  array([[[1, 2],\\n          [3, 4]],\\n         [[5, 6],\\n          [7, 8]]])\\n'"
     },
     "execution_count": 7,
     "metadata": {},
     "output_type": "execute_result"
    }
   ],
   "source": [
    "x = np.array((((1,2), (3,4) ), ((5,6),(7,8))))\n",
    "x\n",
    "\n",
    "'''\n",
    "  array([[[1, 2],\n",
    "          [3, 4]],\n",
    "         [[5, 6],\n",
    "          [7, 8]]])\n",
    "'''"
   ]
  },
  {
   "cell_type": "code",
   "execution_count": 8,
   "metadata": {
    "collapsed": false,
    "pycharm": {
     "name": "#%%\n"
    }
   },
   "outputs": [
    {
     "data": {
      "text/plain": "3"
     },
     "execution_count": 8,
     "metadata": {},
     "output_type": "execute_result"
    }
   ],
   "source": [
    "x.shape # dimensions of the array\n",
    "# (2, 2, 2)\n",
    "\n",
    "x.sum(axis=0)\n",
    "\n",
    "'''\n",
    "array([[ 6,  8],   #  [1,5] = 6 [2,6] = 8 [3,7] = 10 [4, 8] = 12\n",
    "      [10, 12]])\n",
    "'''\n",
    "x.sum(axis=1)\n",
    "\n",
    "'''\n",
    "array([[ 4,  6],   # [1,3] = 4 [2,4] = 6 [5, 7] = 12 [6, 8] = 14\n",
    "      [12, 14]])\n",
    "'''\n",
    "\n",
    "x.sum(axis=2) # [1, 2] = 3 [3, 4] = 7 [5, 6] = 11 [7, 8] = 15\n",
    "'''\n",
    "array([[ 3,  7],\n",
    "      [11, 15]])\n",
    "'''\n",
    "\n",
    "x.ndim # number of dimensions of the array\n",
    "# 3"
   ]
  },
  {
   "cell_type": "code",
   "execution_count": 9,
   "metadata": {
    "collapsed": false,
    "pycharm": {
     "name": "#%%\n"
    }
   },
   "outputs": [
    {
     "name": "stdout",
     "output_type": "stream",
     "text": [
      "[[[[7 3 6 3]\n",
      "   [5 7 9 1]]\n",
      "\n",
      "  [[9 7 7 4]\n",
      "   [2 1 3 1]]\n",
      "\n",
      "  [[0 1 9 1]\n",
      "   [4 7 5 6]]\n",
      "\n",
      "  [[8 9 6 8]\n",
      "   [5 4 3 9]]]\n",
      "\n",
      "\n",
      " [[[1 2 6 0]\n",
      "   [8 2 3 2]]\n",
      "\n",
      "  [[8 5 4 7]\n",
      "   [2 5 7 6]]\n",
      "\n",
      "  [[2 1 7 1]\n",
      "   [5 1 9 9]]\n",
      "\n",
      "  [[6 3 6 5]\n",
      "   [6 7 1 1]]]]\n",
      "shape of above array_4_d  (2, 4, 2, 4)\n"
     ]
    },
    {
     "data": {
      "text/plain": "array([[41, 34, 33, 52],\n       [24, 44, 35, 35]])"
     },
     "execution_count": 9,
     "metadata": {},
     "output_type": "execute_result"
    }
   ],
   "source": [
    "# Now finally, considering a four dimensions array, how to get sum over the last two axis at once?\n",
    "\n",
    "array_4_d = np.random.randint(0, 10, (2, 4, 2, 4))\n",
    "print(array_4_d)\n",
    "print('shape of above array_4_d ', array_4_d.shape)\n",
    "\n",
    "\"\"\"\n",
    "Syntax of random.randint : numpy.random.randint(low, high=None, size=None, dtype=’l’)\n",
    "\n",
    " It returns an array of specified shape and fills it with random integers from low (inclusive) to high (exclusive), i.e. in the interval [low, high).\n",
    "\n",
    "size is the third optional parameter - in above its withing the parenthesis. It takes a size int or tuple of ints.\n",
    "\n",
    "This determines output shape. If the given shape is, e.g., (m, n, k), then m * n * k samples are drawn. Default is None, in which case a single value is returned.\n",
    "\n",
    "\"\"\"\n",
    "\n",
    "# Solution-alternate-1 - by passing a tuple of axes\n",
    "\n",
    "sum_1 = array_4_d.sum(axis=(-2, -1))\n",
    "sum_1"
   ]
  },
  {
   "cell_type": "code",
   "execution_count": 10,
   "metadata": {
    "collapsed": false,
    "pycharm": {
     "name": "#%%\n"
    }
   },
   "outputs": [
    {
     "data": {
      "text/plain": "array([[41, 34, 33, 52],\n       [24, 44, 35, 35]])"
     },
     "execution_count": 10,
     "metadata": {},
     "output_type": "execute_result"
    }
   ],
   "source": [
    "# Solution alternative 2 - by flattening the last two dimensions into one\n",
    "# (useful for functions that don't accept tuples for axis argument)\n",
    "\n",
    "sum_2 = array_4_d.reshape(array_4_d.shape[:-2] + (-1,)).sum(axis=-1)\n",
    "sum_2\n"
   ]
  },
  {
   "cell_type": "markdown",
   "metadata": {
    "collapsed": false
   },
   "source": [
    "## Numpy Concatenate vs hstack\n"
   ]
  },
  {
   "cell_type": "code",
   "execution_count": 11,
   "metadata": {
    "collapsed": false,
    "pycharm": {
     "name": "#%%\n"
    }
   },
   "outputs": [
    {
     "name": "stdout",
     "output_type": "stream",
     "text": [
      "[1 2 3 5 6 7]\n",
      "[1 2 3 5 6 7]\n",
      "[1 2 3 5 6 7]\n"
     ]
    }
   ],
   "source": [
    "a = np.array([1, 2,3])\n",
    "b = np.array([5, 6,7])\n",
    "\n",
    "z = np.concatenate((a, b))\n",
    "# In above line, need to pass the arrays as an iterable (a tuple or list)\n",
    "# otherwise will be below error\n",
    "# TypeError: only integer scalar arrays can be converted to a scalar index \n",
    "\n",
    "c = np.stack([a,b]).reshape(-1)\n",
    "d = np.hstack([a,b])\n",
    "\n",
    "print(z)\n",
    "print(c)\n",
    "print(d)\n",
    "# all three will print [1 2 3 5 6 7]"
   ]
  },
  {
   "cell_type": "markdown",
   "metadata": {
    "collapsed": false
   },
   "source": [
    "### Numpy Concatenate 2D arrays\n",
    "\n",
    "![Imgur](https://imgur.com/n5pmWGo.png)"
   ]
  },
  {
   "cell_type": "code",
   "execution_count": 12,
   "metadata": {
    "collapsed": false,
    "pycharm": {
     "name": "#%%\n"
    }
   },
   "outputs": [
    {
     "name": "stdout",
     "output_type": "stream",
     "text": [
      "[[1 2]\n",
      " [3 4]\n",
      " [5 6]]\n"
     ]
    },
    {
     "data": {
      "text/plain": "'\\n[[1 2]\\n [3 4]\\n [5 6]]\\n'"
     },
     "execution_count": 12,
     "metadata": {},
     "output_type": "execute_result"
    }
   ],
   "source": [
    "a = np.array([[1, 2], [3, 4]])\n",
    "b = np.array([[5, 6]])\n",
    "\n",
    "x = np.concatenate((a, b), axis=0)\n",
    "print(x)\n",
    "'''\n",
    "[[1 2]\n",
    " [3 4]\n",
    " [5 6]]\n",
    "'''\n"
   ]
  },
  {
   "cell_type": "markdown",
   "metadata": {
    "collapsed": false
   },
   "source": [
    "### numpy vstack\n",
    "\n",
    "It Stack arrays in sequence vertically i.e row wise\n",
    "\n",
    "You can concatenate the above 2D arrays using vstack and will get the same result as concatenate with axis =0"
   ]
  },
  {
   "cell_type": "code",
   "execution_count": 13,
   "metadata": {
    "collapsed": false,
    "pycharm": {
     "name": "#%%\n"
    }
   },
   "outputs": [
    {
     "name": "stdout",
     "output_type": "stream",
     "text": [
      "[[1 2]\n",
      " [3 4]\n",
      " [5 6]]\n"
     ]
    },
    {
     "data": {
      "text/plain": "'\\n[[1 2]\\n [3 4]\\n [5 6]]\\n'"
     },
     "execution_count": 13,
     "metadata": {},
     "output_type": "execute_result"
    }
   ],
   "source": [
    "a = np.array([[1, 2], [3, 4]])\n",
    "b = np.array([[5, 6]])\n",
    "\n",
    "v = np.vstack((a, b))\n",
    "print(v)\n",
    "\n",
    "'''\n",
    "[[1 2]\n",
    " [3 4]\n",
    " [5 6]]\n",
    "'''"
   ]
  },
  {
   "cell_type": "markdown",
   "metadata": {
    "collapsed": false
   },
   "source": [
    "### Let’s merge the above two arrays along the axis =1\n",
    "\n",
    "`y = np.concatenate((a, b), axis=1)`\n",
    "\n",
    "Output: ValueError: all the input array dimensions for the concatenation axis must match exactly\n",
    "\n",
    "But why it’s throwing an error, because both the arrays doesn’t have the same dimensions along 0 to concatenate\n",
    "\n",
    "So how do we change the dimension for this concatenation\n",
    "\n",
    "Transpose the array B and then concatenate along axis = 1\n",
    "\n",
    "![Imgur](https://imgur.com/AvZEtPK.png)\n",
    "\n"
   ]
  },
  {
   "cell_type": "code",
   "execution_count": 14,
   "metadata": {
    "collapsed": false,
    "pycharm": {
     "name": "#%%\n"
    }
   },
   "outputs": [
    {
     "name": "stdout",
     "output_type": "stream",
     "text": [
      "[[1 2 5]\n",
      " [3 4 6]]\n"
     ]
    },
    {
     "data": {
      "text/plain": "'\\n[[1 2 5]\\n [3 4 6]]\\n'"
     },
     "execution_count": 14,
     "metadata": {},
     "output_type": "execute_result"
    }
   ],
   "source": [
    "a = np.array([[1, 2], [3, 4]])\n",
    "b = np.array([[5, 6]])\n",
    "\n",
    "y = np.concatenate((a, b.T), axis=1)\n",
    "print(y)\n",
    "\n",
    "'''\n",
    "[[1 2 5]\n",
    " [3 4 6]]\n",
    "'''"
   ]
  },
  {
   "cell_type": "markdown",
   "metadata": {
    "collapsed": false
   },
   "source": [
    "## The reshape() function in Numpy\n",
    "\n",
    "#### The reshape() function is used to give a new shape to an array without changing its data.\n",
    "\n",
    "`numpy.reshape(a, newshape, order='C')`\n",
    "\n",
    "[Doc](https://numpy.org/doc/stable/reference/generated/numpy.reshape.html#numpy-reshape)\n",
    "\n",
    "#### newshape\tThe new shape should be compatible with the original shape. If an integer, then the result will be a 1-D array of that length. One shape dimension can be -1. In this case, the value is inferred from the length of the array and remaining dimensions.\n",
    "\n",
    "The below example\n",
    "\n",
    "![Imgur](https://imgur.com/fbjyxqd.png)\n"
   ]
  },
  {
   "cell_type": "code",
   "execution_count": 15,
   "metadata": {
    "collapsed": false,
    "pycharm": {
     "name": "#%%\n"
    }
   },
   "outputs": [
    {
     "data": {
      "text/plain": "array([[2, 3],\n       [4, 5],\n       [6, 7]])"
     },
     "execution_count": 15,
     "metadata": {},
     "output_type": "execute_result"
    }
   ],
   "source": [
    "x = np.array([[2,3,4], [5,6,7]])      \n",
    "np.reshape(x, (3, 2))"
   ]
  },
  {
   "cell_type": "markdown",
   "metadata": {
    "collapsed": false
   },
   "source": [
    "### What does -1 mean in numpy reshape() ?\n",
    "\n",
    "The \"-1\" stands for \"unknown dimension\" which can and should be infered from another dimension.\n",
    "\n",
    "#### Main Rule is - when we don't how many columns the resultant matrix should have (set it to -1!), but if we know that we want a 1-dimensional array(set the first parameter to 1!).\n"
   ]
  },
  {
   "cell_type": "code",
   "execution_count": 16,
   "metadata": {
    "collapsed": false,
    "pycharm": {
     "name": "#%%\n"
    }
   },
   "outputs": [
    {
     "name": "stdout",
     "output_type": "stream",
     "text": [
      "[2 3 4 5 6 7]\n",
      "[2 5 3 6 4 7]\n",
      "[[2 3]\n",
      " [4 5]\n",
      " [6 7]]\n"
     ]
    }
   ],
   "source": [
    "a = np.array([[2,3,4], [5,6,7]])\n",
    "\n",
    "print(np.reshape(a, 6))\n",
    "\n",
    "print(np.reshape(a, 6, order='F'))\n",
    "\n",
    "print(np.reshape(a, (3,-1)))\n",
    "# the unspecified value is inferred to be 2"
   ]
  },
  {
   "cell_type": "markdown",
   "metadata": {
    "collapsed": false
   },
   "source": [
    "#### In the last line above, we wanted a 3 rows, but we did not know how many columns the resultant matrix should have, and so we kept it at -1. Hence numpy decided the unspecified value - which was inferred to be 2"
   ]
  },
  {
   "cell_type": "code",
   "execution_count": 17,
   "metadata": {
    "collapsed": false,
    "pycharm": {
     "name": "#%%\n"
    }
   },
   "outputs": [
    {
     "data": {
      "text/plain": "matrix([[1, 2, 3, 4, 5, 6, 7, 8]])"
     },
     "execution_count": 17,
     "metadata": {},
     "output_type": "execute_result"
    }
   ],
   "source": [
    "a = np.matrix([[1, 2, 3, 4], [5, 6, 7, 8]])\n",
    "b = np.reshape(a, -1)\n",
    "b"
   ]
  },
  {
   "cell_type": "markdown",
   "metadata": {
    "collapsed": false
   },
   "source": [
    "### numpy allow us to give one of new shape parameter as -1 (eg: (2,-1) or (-1,3) but not (-1, -1)). It simply means that it is an unknown dimension and we want numpy to figure it out. And numpy will figure this by looking at the 'length of the array and remaining dimensions' and making sure it satisfies the above mentioned criteria\n",
    "\n",
    "\n",
    "for the below example the output explains the resultant vector to be a single row.(-1) indicates the number of rows to be 1.\n",
    "if the \n",
    "\n",
    "    a = numpy.matrix([[1, 2, 3, 4], [5, 6, 7, 8]])\n",
    "    b = numpy.reshape(a, -1)\n",
    "\n",
    "output:\n",
    "\n",
    "    matrix([[1, 2, 3, 4, 5, 6, 7, 8]])\n",
    "\n",
    " The \"-1\" stands for \"unknown dimension\" which can should be infered from another dimension.\n"
   ]
  },
  {
   "cell_type": "code",
   "execution_count": 18,
   "metadata": {
    "collapsed": false,
    "pycharm": {
     "name": "#%%\n"
    }
   },
   "outputs": [
    {
     "data": {
      "text/plain": "matrix([[1, 2, 3, 4, 5, 6, 7, 8]])"
     },
     "execution_count": 18,
     "metadata": {},
     "output_type": "execute_result"
    }
   ],
   "source": [
    "a = np.matrix([[1, 2, 3, 4], [5, 6, 7, 8]])\n",
    "b = np.reshape(a, (1, -1))\n",
    "b"
   ]
  },
  {
   "cell_type": "markdown",
   "metadata": {
    "collapsed": false
   },
   "source": [
    "But \n",
    "\n",
    "```python\n",
    "a = np.matrix([[1, 2, 3, 4], [5, 6, 7, 8]])\n",
    "b = np.reshape(a, (-1, 1))\n",
    "```\n",
    "\n",
    "Gives a column vector"
   ]
  },
  {
   "cell_type": "code",
   "execution_count": 19,
   "metadata": {
    "collapsed": false,
    "pycharm": {
     "name": "#%%\n"
    }
   },
   "outputs": [
    {
     "data": {
      "text/plain": "matrix([[1],\n        [2],\n        [3],\n        [4],\n        [5],\n        [6],\n        [7],\n        [8]])"
     },
     "execution_count": 19,
     "metadata": {},
     "output_type": "execute_result"
    }
   ],
   "source": [
    "a = np.matrix([[1, 2, 3, 4], [5, 6, 7, 8]])\n",
    "b = np.reshape(a, (-1, 1))\n",
    "b"
   ]
  },
  {
   "cell_type": "markdown",
   "metadata": {
    "collapsed": false
   },
   "source": [
    "But \n",
    "\n",
    "```python\n",
    "a = np.matrix([[1, 2, 3, 4], [5, 6, 7, 8]])\n",
    "b = np.reshape(a, (-1, 1))\n",
    "```\n",
    "\n",
    "Gives a column vector. \n",
    "\n",
    "#### Trying to reshape with (-1, 1) . We have provided column as 1 but rows as unknown . So we get result new shape as (8, 1).again compatible with original shape(2,4)\n",
    "\n",
    "#### The above is consistent with numpy advice/error message, to use reshape(-1,1) for a single feature; i.e. single column\n",
    "\n",
    "Reshape your data using `array.reshape(-1, 1)` if your data has a single feature"
   ]
  },
  {
   "cell_type": "code",
   "execution_count": 20,
   "metadata": {
    "collapsed": false,
    "pycharm": {
     "name": "#%%\n"
    }
   },
   "outputs": [
    {
     "data": {
      "text/plain": "matrix([[1],\n        [2],\n        [3],\n        [4],\n        [5],\n        [6],\n        [7],\n        [8]])"
     },
     "execution_count": 20,
     "metadata": {},
     "output_type": "execute_result"
    }
   ],
   "source": [
    "a = np.matrix([[1, 2, 3, 4], [5, 6, 7, 8]])\n",
    "b = np.reshape(a, (-1, 1))\n",
    "b"
   ]
  },
  {
   "cell_type": "markdown",
   "metadata": {
    "collapsed": false
   },
   "source": [
    "And finally, if we try to provide both dimension as unknown i.e new shape as (-1,-1). It will throw an error\n",
    "\n",
    "```python\n",
    "a.reshape(-1, -1)\n",
    "ValueError: can only specify one unknown dimension\n",
    "```"
   ]
  },
  {
   "cell_type": "markdown",
   "metadata": {
    "collapsed": false
   },
   "source": [
    "## Reshaping Numpy Array Numerical Column/Features before Normalization\n",
    "\n",
    "##### The main Principle that I am going to discuss with example below is this\n",
    "\n",
    "### For normalizing numerical data, we got to use reshape(1, -1) and NOT reshape(-1, 1) and then apply Normalize() function. Ofcourse after the Normalization is done we can rehape it back with (-1, 1) if thats what we need.\n",
    "\n",
    "Here is how normalizer works and why you should use reshape(1, -1) instead of (-1, 1)\n",
    "\n",
    "### Normalizer by default normalizes on each sample(row) while StandardScaler standardises on each feature(column)\n",
    "\n",
    "---\n",
    "\n",
    "### What does -1 mean in numpy reshape() ?\n",
    "\n",
    "The \"-1\" stands for \"unknown dimension\" which can and should be infered from another dimension.\n",
    "\n",
    "#### Main Rule is - when we don't how many columns the resultant matrix should have (set it to -1!), but if we know that we want a 1-dimensional array(set the first parameter to 1!).\n",
    "\n",
    "---\n",
    "\n",
    "Lets take an example where my array is `np.array([1, 2, 3])`\n",
    "\n",
    "### Noting the mechanism of reshape() - that numpy allow us to give one of new shape parameter as -1 (eg: (2,-1) or (-1,3) but not (-1, -1)). It simply means that it is an unknown dimension and we want numpy to figure it out. And numpy will figure this by looking at the 'length of the array and remaining dimensions' and making sure it satisfies the above mentioned criteria\n",
    "\n",
    "Here if I use (-1, 1) it means any number of rows, which is the responsibility of numpy to figure out, while I am specifying that I need to have one column. \n",
    "\n",
    "Rememeber -1 lets numpy to calculate the unknown dimension for the resultant that will match with the original matrix.\n",
    "\n",
    "And vice versa, if I do reshape(1, -1) means, that I am specifying row to be 1 while leaving column numbers to be calculated by Numpy.\n",
    "\n",
    "So for the case, that I use (-1, 1) => i.e. Rows are unknows while columns required is 1\n",
    "\n",
    "![Imgur](https://imgur.com/vv8tAQK.png)\n",
    "\n",
    "Normalizer() will go each sample wise i.e. row wise and calculate the Normalizer formulae for that row.\n",
    "\n",
    "\n",
    "Lets do actual example"
   ]
  },
  {
   "cell_type": "code",
   "execution_count": 21,
   "metadata": {
    "collapsed": false,
    "pycharm": {
     "name": "#%%\n"
    }
   },
   "outputs": [
    {
     "name": "stdout",
     "output_type": "stream",
     "text": [
      "Afer reshaping with (-1, 1) \n",
      " [[1]\n",
      " [2]\n",
      " [3]]\n",
      "After reshaping with (1, -1) \n",
      " [[1 2 3]]\n"
     ]
    }
   ],
   "source": [
    "from sklearn.preprocessing import Normalizer\n",
    "import numpy as np\n",
    "\n",
    "a = np.array([1, 2, 3])\n",
    "\n",
    "b = np.reshape(a, (-1, 1))\n",
    "\n",
    "c = np.reshape(a, (1, -1))\n",
    "\n",
    "print('Afer reshaping with (-1, 1) \\n', b)\n",
    "print('After reshaping with (1, -1) \\n', c)"
   ]
  },
  {
   "cell_type": "code",
   "execution_count": 22,
   "metadata": {
    "collapsed": false,
    "pycharm": {
     "name": "#%%\n"
    }
   },
   "outputs": [
    {
     "name": "stdout",
     "output_type": "stream",
     "text": [
      "a_transformed_not_useful \n",
      " \n",
      " [[1.]\n",
      " [1.]\n",
      " [1.]]\n",
      "c_transformed \n",
      " \n",
      " [[0.26726124 0.53452248 0.80178373]]\n"
     ]
    }
   ],
   "source": [
    "normalizer = Normalizer()\n",
    "\n",
    "a_transformed_not_useful = normalizer.transform(b)\n",
    "c_transformed = normalizer.transform(c)\n",
    "\n",
    "print(\"a_transformed_not_useful \\n \\n\", a_transformed_not_useful)\n",
    "print(\"c_transformed \\n \\n\", c_transformed)"
   ]
  },
  {
   "cell_type": "markdown",
   "metadata": {
    "collapsed": false
   },
   "source": [
    "As we can see the result of the reshape `a_transformed_not_useful` is a column vector with each value of 1 which in most cases is not useful for our modelling. Beause Normalizer() will go each sample wise i.e. row wise and calculate the Normalizer formulae for that row.\n",
    "\n",
    "---\n",
    "\n",
    "## How argmax() function works in Numpy\n",
    "\n",
    "### argmax is a function which gives the index of the greatest number in the given row or column and the row or column can be decided using axis attribute of argmax funcion. \n",
    "\n",
    "### If we give axis=0 then the function will now try to find the maximum value along the rows of the matrix. And  give the index from rows. If the maximum value is in the 2-nd row (i.e. index of 1), then 1 will be returned.\n",
    "\n",
    "### If we give axis=1 then it will give the index from column. If the maximum value is in the 3rd column, index 2 then that index number will be returned.\n",
    "\n"
   ]
  },
  {
   "cell_type": "code",
   "execution_count": 23,
   "metadata": {},
   "outputs": [
    {
     "name": "stdout",
     "output_type": "stream",
     "text": [
      "11\n",
      "11\n",
      "3\n",
      "2\n",
      "5\n"
     ]
    },
    {
     "data": {
      "text/plain": "'\\n# 5\\n\\nthe array is 2 dimensional, with shape (2,3). Since no axis parameter is specified in the function, the numpy library flattens the array to a 1 dimensional array and then returns the index of the maximum value. In this case the array is transformed to [[1,2,3,4,5,6]] and then returns the index of 6, which is 5.\\n\\n'"
     },
     "execution_count": 23,
     "metadata": {},
     "output_type": "execute_result"
    }
   ],
   "source": [
    "\n",
    "A = np.matrix([[]])\n",
    "\n",
    "A = np.matrix([[1, 2, 3, 33], [4, 5, 6, 66], [7, 8, 9, 99]])\n",
    "\n",
    "print(np.argmax(A))\n",
    "# 11, which is the position of 99\n",
    "\n",
    "print(np.argmax(A[:, :]))\n",
    "# 11, which is the position of 99\n",
    "\n",
    "print(np.argmax(A[:1]))\n",
    "# 3, which is the position of 33\n",
    "\n",
    "print(np.argmax(A[:, 2]))\n",
    "# 2, which is the position of 9\n",
    "\n",
    "np.argmax(A[1:, 2])\n",
    "# 1, which is the position of 9\n",
    "\"\"\" A[1:, 2] it will first fetch the values from 1st row on wards and the only 2nd column value from those rows, then it will find the index of max value from into the resulted matrix. \"\"\"\n",
    "\n",
    "\n",
    "a = [[1, 2, 3], [4, 5, 6]]\n",
    "print(np.argmax(a))\n",
    "\"\"\"\n",
    "# 5\n",
    "\n",
    "the array is 2 dimensional, with shape (2,3). Since no axis parameter is specified in the function, the numpy library flattens the array to a 1 dimensional array and then returns the index of the maximum value. In this case the array is transformed to [[1,2,3,4,5,6]] and then returns the index of 6, which is 5.\n",
    "\n",
    "\"\"\""
   ]
  },
  {
   "cell_type": "markdown",
   "metadata": {},
   "source": [
    "#### When parameter is axis = 0 in argmax()"
   ]
  },
  {
   "cell_type": "code",
   "execution_count": 24,
   "metadata": {},
   "outputs": [
    {
     "data": {
      "text/plain": "array([1, 1, 1])"
     },
     "execution_count": 24,
     "metadata": {},
     "output_type": "execute_result"
    }
   ],
   "source": [
    "\n",
    "a = [[1,2,3],[4,5,6]]\n",
    "np.argmax(a, axis=0)\n",
    "# array([1, 1, 1])"
   ]
  },
  {
   "cell_type": "markdown",
   "metadata": {},
   "source": [
    "The result here is a bit confusing at first. \n",
    "\n",
    "#### First repeating the original rule -  \n",
    "\n",
    "### If we give axis=0 then the function will now try to find the maximum value along the rows of the matrix. And  give the index from rows. If the maximum value is in the 2-nd row (i.e. index of 1), then 1 will be returned.\n",
    "\n",
    "### If we give axis=1 then it will give the index from column. If the maximum value is in the 3rd column, index 2 then that index number will be returned.\n",
    "\n",
    "Since the axis is defined to be 0, the function will now try to find the maximum value along the rows of the matrix. \n",
    "\n",
    "The maximum value, 6, is in the second row of the matrix. The index of the second row is 1. According to the documentation https://docs.scipy.org/doc/numpy-1.15.0/reference/generated/numpy.argmax.html the dimension specified in the axis parameter will be removed. Since the shape of the original matrix was (2,3) and axis specified as 0, the returned matrix will have a shape of(3,) instead, since the 2 in the original shape(2,3) is removed.The row in which the maximum value was found is now repeated for the same number of elements as the columns in the original matrix i.e. 3.\n",
    "\n",
    "\n",
    "### When parameter is axis = 1 in argmax()"
   ]
  },
  {
   "cell_type": "code",
   "execution_count": null,
   "metadata": {},
   "outputs": [],
   "source": [
    "a = [[1,2,3],[4,5,6]]\n",
    "np.argmax(a, axis=1)\n",
    "# array([2, 2])"
   ]
  },
  {
   "cell_type": "markdown",
   "metadata": {},
   "source": [
    "Same concept as above but now index of the column is returned at which the maximum value is available. In this example the maximum value 6 is in the 3rd column, index 2. The column of the original matrix with shape (2,3) will be removed, transforming to (2,) and so the return array will display two elements, each showing the index of the column in which the maximum value was found."
   ]
  }
 ],
 "metadata": {
  "kernelspec": {
   "display_name": "Python 3",
   "language": "python",
   "name": "python3"
  },
  "language_info": {
   "codemirror_mode": {
    "name": "ipython",
    "version": 3
   },
   "file_extension": ".py",
   "mimetype": "text/x-python",
   "name": "python",
   "nbconvert_exporter": "python",
   "pygments_lexer": "ipython3",
   "version": "3.8.5"
  }
 },
 "nbformat": 4,
 "nbformat_minor": 4
}