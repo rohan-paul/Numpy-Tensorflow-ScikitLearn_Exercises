{
 "cells": [
  {
   "cell_type": "markdown",
   "metadata": {
    "pycharm": {
     "name": "#%% md\n"
    }
   },
   "source": [
    "## Generate a random matrix of array and dot product"
   ]
  },
  {
   "cell_type": "code",
   "execution_count": 30,
   "metadata": {
    "collapsed": false,
    "jupyter": {
     "outputs_hidden": false
    },
    "pycharm": {
     "name": "#%%\n"
    }
   },
   "outputs": [
    {
     "name": "stdout",
     "output_type": "stream",
     "text": [
      "[[0.64897822 0.35387803 0.74806493]\n",
      " [0.72390284 0.326733   0.44503712]]\n",
      "[[0.15262156 0.61302011 0.80296106]\n",
      " [0.2195694  0.37830165 0.16453204]]\n",
      "[[6 3 6]\n",
      " [4 8 0]]\n",
      "[[7.57255609 5.51464715]\n",
      " [3.43951359 3.9046908 ]]\n"
     ]
    }
   ],
   "source": [
    "\n",
    "import numpy as np\n",
    "import scipy as sp\n",
    "import scipy.integrate as integrate\n",
    "import re\n",
    "import decimal\n",
    "\n",
    "# For example, to create an array filled with random values between 0 and 1, use random function.\n",
    "# This is particularly useful for problems where you need a random state to get started.\n",
    "# But here the elements will be decimals\n",
    "\n",
    "A = np.random.rand(2,3)\n",
    "print(A)\n",
    "\n",
    "\"\"\" Output of above\n",
    "[[0.62857547 0.14598864 0.93991874]\n",
    " [0.65560569 0.29442998 0.3354452 ]] \"\"\"\n",
    "\n",
    "\n",
    "A = np.random.random([2,3]) # Or this is also equivalent\n",
    "print(A)\n",
    "\n",
    "'''\n",
    "numpy.random.random like many of the other numpy.random methods accept shapes, i.e. N-tuples. So really the outside parenthesis represent calling the method numpy.random.random(), and the inside parenthesis are syntactic sugar for instantiating the tuple (3, 3) that is passed into the function.\n",
    "'''\n",
    "\n",
    "# Create Matrix (2,3) with random between 0 and 1 and INTEGER (i.e. NOT decimal)\n",
    "B = np.random.randint(10, size=(3,2))\n",
    "# print(B)\n",
    "print(B.T)\n",
    "\n",
    "# Dot product\n",
    "print(np.dot(A, B))\n",
    "\n",
    "# transpose\n",
    "# print(np.dot(A, B).T)\n"
   ]
  },
  {
   "cell_type": "markdown",
   "metadata": {
    "pycharm": {
     "name": "#%% md\n"
    }
   },
   "source": [
    "## Add a comma between the elements of a numpy array"
   ]
  },
  {
   "cell_type": "code",
   "execution_count": 31,
   "metadata": {
    "collapsed": false,
    "jupyter": {
     "outputs_hidden": false
    },
    "pycharm": {
     "name": "#%%\n"
    }
   },
   "outputs": [
    {
     "data": {
      "text/plain": "array([2600.2, 2601.2, 2602.2, 2603.1, 2604.1, 2605.1, 2606. , 2607. ,\n       2607.9, 2608.9, 2609.9, 2610.8, 2611.8, 2612.8, 2613.7, 2614.7,\n       2615.7, 2616.6, 2617.6, 2618.6, 2619.5, 2620.5, 2621.4, 2622.4,\n       2623.4, 2624.3, 2625.3, 2626.3, 2627.2, 2628.2, 2995.7, 2996.6,\n       2997.6, 2998.6, 2999.5, 3000.5, 3001.5, 3002.4, 3003.4, 3004.3,\n       3005.3, 3006.3, 3007.2, 3008.2, 3009.2, 3010.1, 3011.1, 3012.1,\n       3013. , 3014.2])"
     },
     "execution_count": 31,
     "metadata": {},
     "output_type": "execute_result"
    }
   ],
   "source": [
    "# I have following x values\n",
    "\n",
    "'''\n",
    "x = [2600.2 2601.2 2602.2 2603.1 2604.1 2605.1 2606.  2607.  2607.9 2608.9\n",
    "     2609.9 2610.8 2611.8 2612.8 2613.7 2614.7 2615.7 2616.6 2617.6 2618.6\n",
    "     2619.5 2620.5 2621.4 2622.4 2623.4 2624.3 2625.3 2626.3 2627.2 2628.2\n",
    "     2995.7 2996.6 2997.6 2998.6 2999.5 3000.5 3001.5 3002.4 3003.4 3004.3\n",
    "     3005.3 3006.3 3007.2 3008.2 3009.2 3010.1 3011.1 3012.1 3013.  3014.2\n",
    "     ]\n",
    "'''\n",
    "\n",
    "# First delte all the line breaks and make as a string\n",
    "\n",
    "x_str = '[2600.2 2601.2 2602.2 2603.1 2604.1 2605.1 2606.  2607.  2607.9 2608.9 2609.9 2610.8 2611.8 2612.8 2613.7 2614.7 2615.7 2616.6 2617.6 2618.6 2619.5 2620.5 2621.4 2622.4 2623.4 2624.3 2625.3 2626.3 2627.2 2628.2 2995.7 2996.6 2997.6 2998.6 2999.5 3000.5 3001.5 3002.4 3003.4 3004.3 3005.3 3006.3 3007.2 3008.2 3009.2 3010.1 3011.1 3012.1 3013. 3014.2]'\n",
    "\n",
    "np_array = np.array(re.split(\"\\s+\", x_str.replace('[', '').replace(']', '')), dtype=float)\n",
    "np_array"
   ]
  },
  {
   "cell_type": "code",
   "execution_count": 32,
   "metadata": {
    "collapsed": false,
    "jupyter": {
     "outputs_hidden": false
    },
    "pycharm": {
     "name": "#%%\n"
    }
   },
   "outputs": [],
   "source": [
    "# If I want to make a list and add comma between each item\n",
    "python_list = list(np_array)"
   ]
  },
  {
   "cell_type": "markdown",
   "metadata": {},
   "source": [
    "## Integrate curve from vectorized data with numpy.trapz()\n",
    "\n",
    "First find out the indices of x array that are within the above integral limits:"
   ]
  },
  {
   "cell_type": "code",
   "execution_count": 33,
   "metadata": {
    "collapsed": false,
    "jupyter": {
     "outputs_hidden": false
    },
    "pycharm": {
     "name": "#%%\n"
    }
   },
   "outputs": [
    {
     "data": {
      "text/plain": "48.666666666666664"
     },
     "execution_count": 33,
     "metadata": {},
     "output_type": "execute_result"
    }
   ],
   "source": [
    "# Here are my x-values:\n",
    "\n",
    "x = [2600, 2601, 2602, 2603, 2604, 2605, 2606, 2607, 2607, 2608, 2609, 2610, 2611, 2612, 2613, 2614, 2615, 2616, 2617, 2618, 2619, 2620, 2621, 2622, 2623, 2624, 2625, 2626, 2627, 2628, 2995, 2996, 2997, 2998, 2999, 3000, 3001, 3002, 3003, 3004, 3005, 3006, 3007, 3008, 3009, 3010, 3011, 3012, 3013, 3014]\n",
    "\n",
    "# and y-values:\n",
    "\n",
    "y = [9, 3, 8, 6, 2, 0, 3, 2, 7, 0, 9, 5, 1, 7, 2, 9, 5, 5, 9, 2, 7, 1,\n",
    "       6, 8, 0, 3, 4, 6, 0, 8, 7, 5, 8, 3, 6, 6, 4, 6, 8, 1, 3, 1, 0, 1,\n",
    "       8, 9, 0, 1, 1, 3]\n",
    "\n",
    "# How would you integrate the curve from x = 2672.6 to 3005.3 ?\n",
    "\n",
    "# Now extract the ranges\n",
    "idx = np.where(( np.array(x) >= 2672.6 ) & (np.array(x) <= 3005.3))[0]\n",
    "\n",
    "# And then either using np.trapz to integrate using the trapezoidal rule:\n",
    "np.trapz(x = np.array(x)[idx], y = np.array(y)[idx] )\n",
    "\n",
    "# or I could also use from scipy's integration methods for integrating with fixed samples:\n",
    "# https://docs.scipy.org/doc/scipy/reference/tutorial/integrate.html\n",
    "\n",
    "\n",
    "# same as numpy.trapz\n",
    "integrate.trapz(x=np.array(x)[idx],y=np.array(y)[idx])\n",
    "# example using simpson's rule\n",
    "integrate.simps(x=np.array(x)[idx],y=np.array(y)[idx])"
   ]
  },
  {
   "cell_type": "markdown",
   "metadata": {
    "pycharm": {
     "name": "#%% md\n"
    }
   },
   "source": [
    "## A note on numpy.trapz() function\n",
    "\n",
    "#### numpy.trapz() function integrate along the given axis using the composite [trapezoidal rule](https://en.wikipedia.org/wiki/Trapezoidal_rule).\n",
    "\n",
    "![Imgur](https://imgur.com/kKX9G5R.png)\n",
    "\n",
    "![Imgur](https://imgur.com/6zwXG8w.png)\n",
    "\n",
    "You specify the integration range when you pass the x array to the np.trapz function.\n",
    "\n",
    "\n",
    "#### When can I get a negative value from numpy.trapz()\n",
    "\n",
    "#### If the $x_i$ in the call to trapz() are not in increasing order, then you will get negative results. So if you want a positive number from this function when it returns a negative, Try re-ordering x in ascending order (and y-values accordingly):\n",
    "\n",
    "```python\n",
    "x_order = x(end:-1:1); %fliplr\n",
    "y_order = y(end:-1:1); %fliplr\n",
    "trapz(x_order, y_order)\n",
    "```\n",
    "\n",
    " In essence, I will get negative result, when I am integrating the function represented by the y data from x = 1 to x = 0, not from x = 0 to x = 1. If I flip my x vector so that I am integrating from x = 0 to x = 1 (essentially swapping the limits of integration) then the area will be positive.\n",
    "\n",
    "In `trapz(x,y)` differentiation of x is applied through diff(x,1,1), i.e. `[x(2:n,:) - x(1:n-1,:)].` If your x is descending this will give negative dx. It doesn't matter if it is positive or negative. However, in `plot` the curve will appear positive-definite (you don't actually see the order of points, just pairs from two vectors on a plane).\n",
    "\n",
    "**Example** (compare the following):\n",
    "\n",
    "```python\n",
    "x = [-1 -0.5 0]; y = 0.5-x;\n",
    "figure; plot(x,y); hold on; plot(-x, y,'r')\n",
    "trapz(x, y)\n",
    "trapz(-x, y)\n",
    "figure; plot(x, y); hold on; plot(fliplr(-x), fliplr(y),'r')\n",
    "trapz(fliplr(-x), fliplr(y))\n",
    "```\n",
    "\n",
    "\n",
    "Think of it like this. The integral of a function that is always positive, if the limits are inverted, will still be negative. Thus we know that\n",
    "\n",
    "    int(x^2,-1,1) = 2/3\n",
    "\n",
    "But\n",
    "\n",
    "    int(x^2,1,-1) = -2/3\n",
    "\n",
    "Clearly x^2 is always a positive number, but here the limits of integration were not increasing, but decreasing.\n",
    "\n",
    "If the $x_i$ in the call to trapz are not in increasing order, then you will get negative results. This is reflected by trapz. Trapz sees the order of the points as presented to it.\n",
    "\n",
    "    x = -1:.1:1;\n",
    "    trapz(x,x.^2)\n",
    "    ans =\n",
    "             0.67\n",
    "\n",
    "    xrev = fliplr(x);\n",
    "    trapz(xrev,xrev.^2)\n",
    "    ans =\n",
    "            -0.67\n",
    "\n",
    "The plot shows only that the function is positive, not the order of the points.\n",
    "\n",
    "---\n",
    "\n",
    "## Considering a four dimensions array, how to get sum over the last two axis at once?\n",
    "\n",
    "First a quick refresher on axis in Numpy\n",
    "\n",
    "### Axis 0 will act on all the ROWS in each COLUMN\n",
    "\n",
    "### Axis 1 will act on all the COLUMNS in each ROW\n",
    "\n",
    "### So a `mean` on axis 0 will be the mean of all the rows in each column, and a mean on axis 1 will be a mean of all the columns in each row.\n"
   ]
  },
  {
   "cell_type": "code",
   "execution_count": 34,
   "metadata": {
    "collapsed": false,
    "jupyter": {
     "outputs_hidden": false
    },
    "pycharm": {
     "name": "#%%\n"
    }
   },
   "outputs": [
    {
     "name": "stdout",
     "output_type": "stream",
     "text": [
      "[[1 2 3]\n",
      " [4 5 6]\n",
      " [7 8 9]]\n"
     ]
    },
    {
     "data": {
      "text/plain": "array([12, 15, 18])"
     },
     "execution_count": 34,
     "metadata": {},
     "output_type": "execute_result"
    }
   ],
   "source": [
    "x = np.array([[1, 2, 3], [4,5,6],[7,8,9]], np.int32)\n",
    "print(x)\n",
    "'''\n",
    "array([[1, 2, 3],\n",
    "       [4, 5, 6],\n",
    "       [7, 8, 9]], dtype=int32)\n",
    "'''\n",
    "\n",
    "s0 = x.sum(axis=0)  # sum the columns [1,4,7] = 12, [2,5,8] = 15 [3,6,9] = 18\n",
    "s0"
   ]
  },
  {
   "cell_type": "code",
   "execution_count": 35,
   "metadata": {
    "collapsed": false,
    "jupyter": {
     "outputs_hidden": false
    },
    "pycharm": {
     "name": "#%%\n"
    }
   },
   "outputs": [
    {
     "data": {
      "text/plain": "array([ 6, 15, 24])"
     },
     "execution_count": 35,
     "metadata": {},
     "output_type": "execute_result"
    }
   ],
   "source": [
    "s1 = x.sum(axis=1)    # sum the rows [1,2,3] = 6, [4,5,6] = 15 [7,8,9] = 24\n",
    "s1"
   ]
  },
  {
   "cell_type": "markdown",
   "source": [
    "### sum() function for a three dimensional array:"
   ],
   "metadata": {
    "collapsed": false,
    "pycharm": {
     "name": "#%% md\n"
    }
   }
  },
  {
   "cell_type": "code",
   "execution_count": 36,
   "outputs": [
    {
     "data": {
      "text/plain": "'\\n  array([[[1, 2],\\n          [3, 4]],\\n         [[5, 6],\\n          [7, 8]]])\\n'"
     },
     "execution_count": 36,
     "metadata": {},
     "output_type": "execute_result"
    }
   ],
   "source": [
    "x = np.array((((1,2), (3,4) ), ((5,6),(7,8))))\n",
    "x\n",
    "\n",
    "'''\n",
    "  array([[[1, 2],\n",
    "          [3, 4]],\n",
    "         [[5, 6],\n",
    "          [7, 8]]])\n",
    "'''"
   ],
   "metadata": {
    "collapsed": false,
    "pycharm": {
     "name": "#%%\n"
    }
   }
  },
  {
   "cell_type": "code",
   "execution_count": 37,
   "outputs": [
    {
     "data": {
      "text/plain": "3"
     },
     "execution_count": 37,
     "metadata": {},
     "output_type": "execute_result"
    }
   ],
   "source": [
    "x.shape # dimensions of the array\n",
    "# (2, 2, 2)\n",
    "\n",
    "x.sum(axis=0)\n",
    "\n",
    "'''\n",
    "array([[ 6,  8],   #  [1,5] = 6 [2,6] = 8 [3,7] = 10 [4, 8] = 12\n",
    "      [10, 12]])\n",
    "'''\n",
    "x.sum(axis=1)\n",
    "\n",
    "'''\n",
    "array([[ 4,  6],   # [1,3] = 4 [2,4] = 6 [5, 7] = 12 [6, 8] = 14\n",
    "      [12, 14]])\n",
    "'''\n",
    "\n",
    "x.sum(axis=2) # [1, 2] = 3 [3, 4] = 7 [5, 6] = 11 [7, 8] = 15\n",
    "'''\n",
    "array([[ 3,  7],\n",
    "      [11, 15]])\n",
    "'''\n",
    "\n",
    "x.ndim # number of dimensions of the array\n",
    "# 3"
   ],
   "metadata": {
    "collapsed": false,
    "pycharm": {
     "name": "#%%\n"
    }
   }
  },
  {
   "cell_type": "code",
   "execution_count": 38,
   "outputs": [
    {
     "name": "stdout",
     "output_type": "stream",
     "text": [
      "[[[[5 4 3 1]\n",
      "   [8 2 3 4]]\n",
      "\n",
      "  [[7 9 9 3]\n",
      "   [0 0 1 6]]\n",
      "\n",
      "  [[7 3 9 6]\n",
      "   [5 5 0 9]]\n",
      "\n",
      "  [[6 0 7 9]\n",
      "   [0 7 3 9]]]\n",
      "\n",
      "\n",
      " [[[9 3 5 9]\n",
      "   [4 8 5 6]]\n",
      "\n",
      "  [[9 8 0 3]\n",
      "   [0 9 9 2]]\n",
      "\n",
      "  [[1 3 0 6]\n",
      "   [3 8 5 9]]\n",
      "\n",
      "  [[9 1 4 3]\n",
      "   [7 7 8 1]]]]\n",
      "shape of above array_4_d  (2, 4, 2, 4)\n"
     ]
    },
    {
     "data": {
      "text/plain": "array([[30, 35, 44, 41],\n       [49, 40, 35, 40]])"
     },
     "execution_count": 38,
     "metadata": {},
     "output_type": "execute_result"
    }
   ],
   "source": [
    "# Now finally, considering a four dimensions array, how to get sum over the last two axis at once?\n",
    "\n",
    "array_4_d = np.random.randint(0, 10, (2, 4, 2, 4))\n",
    "print(array_4_d)\n",
    "print('shape of above array_4_d ', array_4_d.shape)\n",
    "\n",
    "\"\"\"\n",
    "Syntax of random.randint : numpy.random.randint(low, high=None, size=None, dtype=’l’)\n",
    "\n",
    " It returns an array of specified shape and fills it with random integers from low (inclusive) to high (exclusive), i.e. in the interval [low, high).\n",
    "\n",
    "size is the third optional parameter - in above its withing the parenthesis. It takes a size int or tuple of ints.\n",
    "\n",
    "This determines output shape. If the given shape is, e.g., (m, n, k), then m * n * k samples are drawn. Default is None, in which case a single value is returned.\n",
    "\n",
    "\"\"\"\n",
    "\n",
    "# Solution-alternate-1 - by passing a tuple of axes\n",
    "\n",
    "sum_1 = array_4_d.sum(axis=(-2, -1))\n",
    "sum_1"
   ],
   "metadata": {
    "collapsed": false,
    "pycharm": {
     "name": "#%%\n"
    }
   }
  },
  {
   "cell_type": "code",
   "execution_count": 39,
   "outputs": [
    {
     "data": {
      "text/plain": "array([[30, 35, 44, 41],\n       [49, 40, 35, 40]])"
     },
     "execution_count": 39,
     "metadata": {},
     "output_type": "execute_result"
    }
   ],
   "source": [
    "# Solution alternative 2 - by flattening the last two dimensions into one\n",
    "# (useful for functions that don't accept tuples for axis argument)\n",
    "\n",
    "sum_2 = array_4_d.reshape(array_4_d.shape[:-2] + (-1,)).sum(axis=-1)\n",
    "sum_2\n"
   ],
   "metadata": {
    "collapsed": false,
    "pycharm": {
     "name": "#%%\n"
    }
   }
  },
  {
   "source": [
    "## Numpy Concatenate vs hstack\n"
   ],
   "cell_type": "markdown",
   "metadata": {}
  },
  {
   "cell_type": "code",
   "execution_count": null,
   "metadata": {},
   "outputs": [],
   "source": [
    "a = np.array([1, 2,3])\n",
    "b = np.array([5, 6,7])\n",
    "\n",
    "z = np.concatenate((a, b))\n",
    "# In above line, need to pass the arrays as an iterable (a tuple or list)\n",
    "# otherwise will be below error\n",
    "# TypeError: only integer scalar arrays can be converted to a scalar index \n",
    "\n",
    "c = np.stack([a,b]).reshape(-1)\n",
    "d = np.hstack([a,b])\n",
    "\n",
    "print(z)\n",
    "print(c)\n",
    "print(d)\n",
    "# all three will print [1 2 3 5 6 7]"
   ]
  },
  {
   "source": [
    "### Numpy Concatenate 2D arrays\n",
    "\n",
    "![Imgur](https://imgur.com/n5pmWGo.png)"
   ],
   "cell_type": "markdown",
   "metadata": {}
  },
  {
   "cell_type": "code",
   "execution_count": null,
   "metadata": {},
   "outputs": [],
   "source": [
    "a = np.array([[1, 2], [3, 4]])\n",
    "b = np.array([[5, 6]])\n",
    "\n",
    "x = np.concatenate((a, b), axis=0)\n",
    "print(x)\n",
    "'''\n",
    "[[1 2]\n",
    " [3 4]\n",
    " [5 6]]\n",
    "'''\n"
   ]
  },
  {
   "source": [
    "### numpy vstack\n",
    "\n",
    "It Stack arrays in sequence vertically i.e row wise\n",
    "\n",
    "You can concatenate the above 2D arrays using vstack and will get the same result as concatenate with axis =0"
   ],
   "cell_type": "markdown",
   "metadata": {}
  },
  {
   "cell_type": "code",
   "execution_count": null,
   "metadata": {},
   "outputs": [],
   "source": [
    "a = np.array([[1, 2], [3, 4]])\n",
    "b = np.array([[5, 6]])\n",
    "\n",
    "v = np.vstack((a, b))\n",
    "print(v)\n",
    "\n",
    "'''\n",
    "[[1 2]\n",
    " [3 4]\n",
    " [5 6]]\n",
    "'''"
   ]
  },
  {
   "source": [
    "### Let’s merge the above two arrays along the axis =1\n",
    "\n",
    "`y = np.concatenate((a, b), axis=1)`\n",
    "\n",
    "Output: ValueError: all the input array dimensions for the concatenation axis must match exactly\n",
    "\n",
    "But why it’s throwing an error, because both the arrays doesn’t have the same dimensions along 0 to concatenate\n",
    "\n",
    "So how do we change the dimension for this concatenation\n",
    "\n",
    "Transpose the array B and then concatenate along axis = 1\n",
    "\n",
    "![Imgur](https://imgur.com/AvZEtPK.png)\n",
    "\n"
   ],
   "cell_type": "markdown",
   "metadata": {}
  },
  {
   "cell_type": "code",
   "execution_count": null,
   "metadata": {},
   "outputs": [],
   "source": [
    "a = np.array([[1, 2], [3, 4]])\n",
    "b = np.array([[5, 6]])\n",
    "\n",
    "y = np.concatenate((a, b.T), axis=1)\n",
    "print(y)\n",
    "\n",
    "'''\n",
    "[[1 2 5]\n",
    " [3 4 6]]\n",
    "'''"
   ]
  }
 ],
 "metadata": {
  "kernelspec": {
   "display_name": "Python 3",
   "language": "python",
   "name": "python3"
  },
  "language_info": {
   "codemirror_mode": {
    "name": "ipython",
    "version": 3
   },
   "file_extension": ".py",
   "mimetype": "text/x-python",
   "name": "python",
   "nbconvert_exporter": "python",
   "pygments_lexer": "ipython3",
   "version": "3.7.6"
  }
 },
 "nbformat": 4,
 "nbformat_minor": 4
}